{
 "cells": [
  {
   "cell_type": "markdown",
   "metadata": {},
   "source": [
    "# __ECC201 &ndash; Fall 2019-2020 &ndash; Homework 04__"
   ]
  },
  {
   "cell_type": "markdown",
   "metadata": {},
   "source": [
    "## Student Name and ID\n",
    "\n",
    "Please enter your name and your student ID below programmatically!"
   ]
  },
  {
   "cell_type": "code",
   "execution_count": 5,
   "metadata": {},
   "outputs": [],
   "source": [
    "student_name = \"<Fill in your name here>\"\n",
    "student_id   = \"<Fill in your student ID here>\""
   ]
  },
  {
   "cell_type": "markdown",
   "metadata": {},
   "source": [
    "## SUBMISSION INSTRUCTIONS\n",
    "\n",
    "You will submit your own copy of this Jupyter Lab notebook according to the instructions below:\n",
    "\n",
    "- You will upload the completed version of this notebook to the DropBox site that will be provided to you along with the Facebook announcement.\n",
    "\n",
    "- See the upload site for the __deadline__. \n",
    "\n",
    "- __Late homeworks will NOT be accepted!__ \n",
    "\n",
    "- Name your notebook file using your first name, middle name--if you have one, your\n",
    "  last name, and your 8-digit student ID, separated by individual underscore\n",
    "  characters. All letters MUST be in LOWERCASE.\n",
    "\n",
    "  DO NOT USE any PUNCTUATION characters in your filename. USE ONLY letters a-z\n",
    "  and digits 0-9, except for the underscore characters to join different parts\n",
    "  of your filename (first/middle/last name, student ID).\n",
    "\n",
    "  For example, if your name is `John Milton Smith` and your student ID is\n",
    "  `20173847`, then your file should be named \n",
    "\n",
    "                          john_milton_smith_20173847.ipynb\n",
    "\n",
    "  You may abbreviate your middle name and hence your file may also be named\n",
    "\n",
    "                          john_m_smith_20173847.ipynb\n",
    "\n",
    "- DO NOT include any other information in the name of your file that you will upload!\n",
    "\n",
    "- <font color=\"blue\">__READ ALL INSTRUCTIONS CAREFULLY BEFORE STARTING TO SOLVE EACH PROBLEM__</font>\n",
    "\n",
    "- Upload your homework here&mdash;Check the above website for the homework deadline now!\n",
    "    \n",
    "> https://www.dropbox.com/request/V4OV1g7tr5iCEiLopbJ6\n",
    "\n"
   ]
  },
  {
   "cell_type": "markdown",
   "metadata": {},
   "source": [
    "## Questions\n",
    "---\n",
    "\n",
    "There are four (4) questions on this homework. You will have fun playing/displaying with images and grids. Best of luck!\n",
    "\n",
    "- You will use the following `draw_grid(.)` function for displaying 2D-grids you will use in some of the problems below.\n",
    "\n",
    "- Note that you __must__ provide your own implementation of the `MultiArray` class!\n",
    "\n",
    "- Other example software is mentioned further below."
   ]
  },
  {
   "cell_type": "code",
   "execution_count": 1,
   "metadata": {},
   "outputs": [],
   "source": [
    "from MultiArray import MultiArray\n",
    "import pandas as pd\n",
    "\n",
    "g = MultiArray( 5, 5 )\n",
    "\n",
    "g.clear( \"-\" )\n",
    "\n",
    "def sample_initialization( g ):\n",
    "    g[0, 0] = \"▅\"\n",
    "    g[1, 1] = \"▅\"\n",
    "    g[2, 2] = \"▅\"\n",
    "    g[3, 3] = \"▅\"\n",
    "    g[4, 4] = \"▅\"\n",
    "    \n",
    "sample_initialization( g )"
   ]
  },
  {
   "cell_type": "code",
   "execution_count": 119,
   "metadata": {},
   "outputs": [],
   "source": [
    "def draw_grid( grid, n_rows, n_cols ):\n",
    "    \"\"\"\n",
    "    Displays a 2D-MultiArray object that has n_rows rows and n_cols columns using\n",
    "    Pandas dataframes.\n",
    "    \"\"\"\n",
    "    rows = []\n",
    "    # Chop the linearly-represented list of elements of the 2D-grid into separate \n",
    "    # rows, which are represented as a list of lists. For example, for a 3 x 4 grid,\n",
    "    # we would generate [[x, x, x, x], [y, y, y, y], [z, z, z, z]] where row 1 values \n",
    "    # are x's, row 2 values are all y's, and row 3 values are all z's. \n",
    "    for i in range( n_rows ):\n",
    "        col_vals = []\n",
    "        for j in range( n_cols ):\n",
    "            col_vals.append( grid[i, j] )\n",
    "        rows.append( col_vals )\n",
    "    # Create a Pandas dataframe to display the grid\n",
    "    df = pd.DataFrame( rows )\n",
    "    print( df )"
   ]
  },
  {
   "cell_type": "markdown",
   "metadata": {},
   "source": [
    "Here's how we can display the $5 \\times 5$ grid we created using the `MultiArray` and the `draw_grid(.)` function provided right above."
   ]
  },
  {
   "cell_type": "code",
   "execution_count": 120,
   "metadata": {},
   "outputs": [
    {
     "name": "stdout",
     "output_type": "stream",
     "text": [
      "   0  1  2  3  4\n",
      "0  ▅  -  -  -  -\n",
      "1  -  ▅  -  -  -\n",
      "2  -  -  ▅  -  -\n",
      "3  -  -  -  ▅  -\n",
      "4  -  -  -  -  ▅\n"
     ]
    }
   ],
   "source": [
    "draw_grid( g, 5, 5 )"
   ]
  },
  {
   "cell_type": "markdown",
   "metadata": {},
   "source": [
    "----\n",
    "QUESTION 1 \n",
    "\n",
    "----"
   ]
  },
  {
   "cell_type": "markdown",
   "metadata": {},
   "source": [
    "Get the Game of Life implementation (`LifeGrid`) in your textbook to work, but follow the given specifications below:\n",
    "\n",
    "- Use as many cells as you need to solve this question.\n",
    "- Demonstrate that your implementation works correctly using the `draw_grid(.)` method defined above. This means that you should be implementing your version of the LifeGrid ADT using a `MultiArray`, __not__ an `Array2D` object.\n",
    "- You can clear all cells to empty strings or middle dots and only represent live cells with the block character, as shown above, if you wish. See the sample code right below:"
   ]
  },
  {
   "cell_type": "code",
   "execution_count": 121,
   "metadata": {},
   "outputs": [
    {
     "name": "stdout",
     "output_type": "stream",
     "text": [
      "   0  1  2  3  4\n",
      "0  ▅  ·  ·  ·  ·\n",
      "1  ·  ▅  ·  ·  ·\n",
      "2  ·  ·  ▅  ·  ·\n",
      "3  ·  ·  ⊕  ▅  ·\n",
      "4  ·  ·  ·  ·  ▅\n"
     ]
    }
   ],
   "source": [
    "g.clear( \"·\" )\n",
    "sample_initialization(g )\n",
    "g[3, 2] = \"⊕\" # Fancy symbol\n",
    "draw_grid( g, 5, 5 )"
   ]
  },
  {
   "cell_type": "code",
   "execution_count": null,
   "metadata": {},
   "outputs": [],
   "source": []
  },
  {
   "cell_type": "code",
   "execution_count": null,
   "metadata": {},
   "outputs": [],
   "source": []
  },
  {
   "cell_type": "code",
   "execution_count": null,
   "metadata": {},
   "outputs": [],
   "source": []
  },
  {
   "cell_type": "code",
   "execution_count": null,
   "metadata": {},
   "outputs": [],
   "source": []
  },
  {
   "cell_type": "code",
   "execution_count": null,
   "metadata": {},
   "outputs": [],
   "source": []
  },
  {
   "cell_type": "code",
   "execution_count": null,
   "metadata": {},
   "outputs": [],
   "source": []
  },
  {
   "cell_type": "markdown",
   "metadata": {},
   "source": [
    "----\n",
    "QUESTION 2\n",
    "\n",
    "----"
   ]
  },
  {
   "cell_type": "markdown",
   "metadata": {},
   "source": [
    "Complete the `SparseMatrix` implementation provided in your textbook.\n",
    "\n",
    "- Complete `transpose()`, `__getitem()__` , `subtract()`, and `multiply()` methods.\n",
    "\n",
    "-  Add Python operator methods to your `SparseMatrix` class so that two sparse matrices can be added using `s1 + s2`, subtracted using `s1 - s2`, and multiplied using `s1 * s2`.\n",
    "\n",
    "- Demonstrate that your implementation works as intended."
   ]
  },
  {
   "cell_type": "code",
   "execution_count": 9,
   "metadata": {},
   "outputs": [],
   "source": []
  },
  {
   "cell_type": "code",
   "execution_count": null,
   "metadata": {},
   "outputs": [],
   "source": []
  },
  {
   "cell_type": "code",
   "execution_count": null,
   "metadata": {},
   "outputs": [],
   "source": []
  },
  {
   "cell_type": "markdown",
   "metadata": {},
   "source": [
    "----\n",
    "QUESTION 3\n",
    "\n",
    "----"
   ]
  },
  {
   "cell_type": "markdown",
   "metadata": {},
   "source": [
    "__(Programming Project 4.1 from the textbook&mdash;No need to refer to the textbook version)__\n",
    "\n",
    "The Game of Life is defined for an infinite-sized grid. In Chapter 2, we defined\n",
    "the Life Grid ADT to use a fixed-size grid in which the user specified the width\n",
    "and height of the grid. This was sufficient as an illustration of the use of a 2-D\n",
    "array for the implementation of the game of Life. But a full implementation\n",
    "should allow for an infinite-sized grid. Implement the Sparse Life Grid ADT\n",
    "using an approach similar to the one used to implement the sparse matrix.\n",
    "\n",
    "- Use as many cells as you need to solve this question.\n",
    "\n",
    "- You may want to refer to the code here: https://github.com/lthebe/PythonDS"
   ]
  },
  {
   "cell_type": "markdown",
   "metadata": {},
   "source": []
  },
  {
   "cell_type": "raw",
   "metadata": {},
   "source": []
  },
  {
   "cell_type": "code",
   "execution_count": null,
   "metadata": {},
   "outputs": [],
   "source": []
  },
  {
   "cell_type": "markdown",
   "metadata": {},
   "source": []
  },
  {
   "cell_type": "raw",
   "metadata": {},
   "source": []
  },
  {
   "cell_type": "markdown",
   "metadata": {},
   "source": [
    "----\n",
    "QUESTION 4\n",
    "\n",
    "----"
   ]
  },
  {
   "cell_type": "markdown",
   "metadata": {},
   "source": [
    "First, consider the following code for being able to display RGB images."
   ]
  },
  {
   "cell_type": "code",
   "execution_count": 97,
   "metadata": {},
   "outputs": [
    {
     "data": {
      "text/plain": [
       "array([[[0.34976322, 0.85466659, 0.16719909],\n",
       "        [0.94864519, 0.60718366, 0.4387508 ],\n",
       "        [0.04460703, 0.4031132 , 0.16956994],\n",
       "        [0.55783554, 0.24337324, 0.37497787],\n",
       "        [0.35532419, 0.22061196, 0.19414918]],\n",
       "\n",
       "       [[0.11817299, 0.05914977, 0.93407475],\n",
       "        [0.74328027, 0.49713288, 0.83392559],\n",
       "        [0.58993158, 0.65751447, 0.75868013],\n",
       "        [0.60760152, 0.38245351, 0.27836158],\n",
       "        [0.75864856, 0.66318421, 0.36591251]],\n",
       "\n",
       "       [[0.20179343, 0.41360189, 0.34398531],\n",
       "        [0.01595145, 0.84843633, 0.80328963],\n",
       "        [0.25008189, 0.81746801, 0.2134076 ],\n",
       "        [0.02111956, 0.10590136, 0.07943976],\n",
       "        [0.40465492, 0.31238967, 0.26893379]],\n",
       "\n",
       "       [[0.05855173, 0.69018619, 0.24459986],\n",
       "        [0.36125669, 0.78098119, 0.14998995],\n",
       "        [0.14522608, 0.0458987 , 0.53026836],\n",
       "        [0.3740564 , 0.99935067, 0.04236415],\n",
       "        [0.81353596, 0.98881132, 0.54189612]],\n",
       "\n",
       "       [[0.12283346, 0.20498007, 0.7068385 ],\n",
       "        [0.67621088, 0.33259564, 0.59267007],\n",
       "        [0.76511344, 0.80114067, 0.14369967],\n",
       "        [0.04452961, 0.62893369, 0.18589919],\n",
       "        [0.34175992, 0.8404825 , 0.35559544]]])"
      ]
     },
     "execution_count": 97,
     "metadata": {},
     "output_type": "execute_result"
    }
   ],
   "source": [
    "import matplotlib.pyplot as plt\n",
    "from matplotlib.pyplot import imshow\n",
    "import numpy as np\n",
    "\n",
    "# Fix the random state for reproducibility\n",
    "np.random.seed( 347793939 )\n",
    "\n",
    "# Create a 5 x 5 image grid with 3 color components (R, G, B). Note that\n",
    "# the values will be limited to the range [0 .. 1.0] inclusive.\n",
    "#\n",
    "grid = np.random.rand( 5, 5, 3 )\n",
    "grid"
   ]
  },
  {
   "cell_type": "markdown",
   "metadata": {},
   "source": [
    "Let's display the image whose (R, G, B) colors we've randomly initialized."
   ]
  },
  {
   "cell_type": "code",
   "execution_count": 98,
   "metadata": {},
   "outputs": [
    {
     "data": {
      "text/plain": [
       "<matplotlib.image.AxesImage at 0x7fba0075c898>"
      ]
     },
     "execution_count": 98,
     "metadata": {},
     "output_type": "execute_result"
    },
    {
     "data": {
      "image/png": "[encoded data removed]",
      "text/plain": [
       "<Figure size 432x288 with 1 Axes>"
      ]
     },
     "metadata": {
      "needs_background": "light"
     },
     "output_type": "display_data"
    }
   ],
   "source": [
    "imshow( grid )"
   ]
  },
  {
   "cell_type": "markdown",
   "metadata": {},
   "source": [
    "Let's reassign some of the pixel values to colors we know and redisplay the image."
   ]
  },
  {
   "cell_type": "code",
   "execution_count": 99,
   "metadata": {},
   "outputs": [],
   "source": [
    "grid[0, 0] = (0, 0, 0) # Black\n",
    "grid[1, 1] = (1, 0, 0) # Red\n",
    "grid[2, 2] = (0, 1, 0) # Green\n",
    "grid[3, 3] = (0, 0, 1) # Blue\n",
    "grid[4, 4] = (1, 1, 1) # White\n",
    "#grid"
   ]
  },
  {
   "cell_type": "code",
   "execution_count": 100,
   "metadata": {},
   "outputs": [
    {
     "data": {
      "text/plain": [
       "<matplotlib.image.AxesImage at 0x7fba006ad978>"
      ]
     },
     "execution_count": 100,
     "metadata": {},
     "output_type": "execute_result"
    },
    {
     "data": {
      "image/png": "[encoded data removed]",
      "text/plain": [
       "<Figure size 432x288 with 1 Axes>"
      ]
     },
     "metadata": {
      "needs_background": "light"
     },
     "output_type": "display_data"
    }
   ],
   "source": [
    "imshow( grid )"
   ]
  },
  {
   "cell_type": "markdown",
   "metadata": {},
   "source": [
    "Implement a color image ADT, mamed `ColorImage` using the following APIs where each pixel should be represented in terms of (Red, Green, Blue) components:\n",
    "\n",
    "- `ColorImage( nrows, ncols )`: Creates a new instance that consists of\n",
    "`nrows` and `ncols` of pixels each set to the gray color `(0.5, 0.5, 0.5)`.\n",
    "- `width()`: Returns the width of the image.\n",
    "- `height()`: Returns the height of the image.\n",
    "- `clear( color )`: Clears the entire image by setting each pixel to the given\n",
    "RGB color, specified using either a 3-tuple or a 3-element list of (R, G, B) values.\n",
    "- `__getitem__( row, col )`: Returns the RGB color of the given pixel as an\n",
    "`RGBColor` (See the definition of `RBGColor` object in your textbook). The pixel coordinates must be within the valid range, that is in the range $[0 \\ ..\\ 1.0]$.\n",
    "- `__setitem__( row, col, color )`: Set the given pixel to the given RGB color.\n",
    "The pixel coordinates must be within the valid range.\n",
    "- `to_grayscale()`: Converts the image to grayscale. A color image can be easily converted to a grayscale image by converting each pixel of the color image, specified by the three components (R, G, B), to a grayscale value using the formula\n",
    "\n",
    "        gray = 0.299 * R + 0.587 * G + 0.114 * B\n",
    "\n",
    "    The proportions applied to each color component in the formula corresponds to the levels of sensitivity with which humans see each of the three primary colors red, green and blue.\n",
    "    This function should return a _new_ image that contains the grayscale values. Here's how we can do this with the colored grid we created above."
   ]
  },
  {
   "cell_type": "code",
   "execution_count": 115,
   "metadata": {},
   "outputs": [
    {
     "data": {
      "text/plain": [
       "array([[0.        , 0.69007931, 0.26929592, 0.3524004 , 0.25787416],\n",
       "       [0.17653916, 0.299     , 0.64884007, 0.43790628, 0.65783908],\n",
       "       [0.34233487, 0.59437663, 0.587     , 0.07753498, 0.33502301],\n",
       "       [0.45053064, 0.58355056, 0.13081573, 0.114     , 0.88545565],\n",
       "       [0.23763009, 0.46498508, 0.71542025, 0.40369094, 1.        ]])"
      ]
     },
     "execution_count": 115,
     "metadata": {},
     "output_type": "execute_result"
    }
   ],
   "source": [
    "gray_shades = np.zeros( (5, 5) ) # Initial values do not matter. So zeros are fine.\n",
    "\n",
    "for i in range( grid.shape[0] ): # Run through the first dimension\n",
    "    for j in range( grid.shape[1] ): # Run through the second dimension\n",
    "        r, g, b = grid[i, j] # At (i, j) we have 3-value list, the (R, G, B) values\n",
    "        #print( r, g, b )\n",
    "        # Apply the conversion formula and set the grayscale value at the corresponding pixel\n",
    "        gray_val = 0.299 * r + 0.587 * g + 0.114 * b\n",
    "        gray_shades[i, j] = gray_val\n",
    "        \n",
    "# Let's display the grayscale values to see what we get numerically\n",
    "gray_shades"
   ]
  },
  {
   "cell_type": "markdown",
   "metadata": {},
   "source": [
    "Finally, let's display the grayscale version of the colored image we've created and modified above. Note the colormap parameter we must pass to `imshow(.)`."
   ]
  },
  {
   "cell_type": "code",
   "execution_count": 117,
   "metadata": {},
   "outputs": [
    {
     "data": {
      "text/plain": [
       "<matplotlib.image.AxesImage at 0x7fba006dd518>"
      ]
     },
     "execution_count": 117,
     "metadata": {},
     "output_type": "execute_result"
    },
    {
     "data": {
      "image/png": "[encoded data removed]",
      "text/plain": [
       "<Figure size 432x288 with 1 Axes>"
      ]
     },
     "metadata": {
      "needs_background": "light"
     },
     "output_type": "display_data"
    }
   ],
   "source": [
    "imshow( gray_shades, cmap='gray' )"
   ]
  },
  {
   "cell_type": "code",
   "execution_count": null,
   "metadata": {},
   "outputs": [],
   "source": []
  },
  {
   "cell_type": "code",
   "execution_count": null,
   "metadata": {},
   "outputs": [],
   "source": []
  },
  {
   "cell_type": "code",
   "execution_count": null,
   "metadata": {},
   "outputs": [],
   "source": []
  },
  {
   "cell_type": "code",
   "execution_count": null,
   "metadata": {},
   "outputs": [],
   "source": []
  },
  {
   "cell_type": "code",
   "execution_count": null,
   "metadata": {},
   "outputs": [],
   "source": []
  },
  {
   "cell_type": "markdown",
   "metadata": {},
   "source": [
    "---"
   ]
  },
  {
   "cell_type": "markdown",
   "metadata": {},
   "source": [
    "<center>END OF HOMEWORK</center>"
   ]
  }
 ],
 "metadata": {
  "kernelspec": {
   "display_name": "Python 3",
   "language": "python",
   "name": "python3"
  },
  "language_info": {
   "codemirror_mode": {
    "name": "ipython",
    "version": 2
   },
   "file_extension": ".py",
   "mimetype": "text/x-python",
   "name": "python",
   "nbconvert_exporter": "python",
   "pygments_lexer": "ipython2",
   "version": "2.7.15+"
  }
 },
 "nbformat": 4,
 "nbformat_minor": 2
}
