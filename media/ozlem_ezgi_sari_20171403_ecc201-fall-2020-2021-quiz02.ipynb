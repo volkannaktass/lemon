{
 "cells": [
  {
   "cell_type": "markdown",
   "metadata": {
    "deletable": false,
    "editable": false,
    "nbgrader": {
     "cell_type": "markdown",
     "checksum": "0428e68d78e55d98e213f4ee66c598b9",
     "grade": false,
     "grade_id": "cell-p0666q62xd3a86de",
     "locked": true,
     "schema_version": 3,
     "solution": false,
     "task": false
    }
   },
   "source": [
    "## <span style=\"margin-left: 1px; background-color: #333; color: white; padding:8px; padding-left: 10px; padding-right: 10px; border-radius: 5px;\">ECC201 • Fall 2020-2021 • <span style=\"margin-left: 1px; background-color: #cf441e; border-radius: 3px; padding: 2px; padding-left: 5px; padding-right: 5px; font-size: 80%;\">QUIZ 02</span></span>\n",
    "\n",
    "#### <span style=\"display: block; margin-left: 0px; background-color: #388; color: white; padding: 5px; padding-left: 10px; padding-right: 10px; border-radius: 0px; text-align: center; border-radius: 3px;\">1 question / 30 points total / 30 minutes </span></div><span id=\"QTOP\"></span> \n",
    "\n",
    "\n",
    "Jump to \n",
    "<a href=\"#Q1\" style=\"background-color: #555; color: white; padding: 10px; border-radius: 2px; text-align: center; border-radius: 3px; margin-right: 5px;\">Q1</a>"
   ]
  },
  {
   "cell_type": "markdown",
   "metadata": {
    "deletable": false,
    "editable": false,
    "nbgrader": {
     "cell_type": "markdown",
     "checksum": "198f206437c60ec7c6292aa28cbaf1b4",
     "grade": false,
     "grade_id": "cell-uugglg2jz93wo16r",
     "locked": true,
     "schema_version": 3,
     "solution": false,
     "task": false
    }
   },
   "source": [
    "### INSTRUCTIONS <span style=\"margin-left: 10px; background-color: #116; color: white; padding: 5px; padding-left: 10px; padding-right: 10px; border-radius: 5px; font-size: 12pt;\">READ CAREFULLY</span>\n",
    "\n",
    "</br></br>\n",
    "\n",
    "<span style=\"color: #555; font-size: 12pt; line-height: 1.5;\">\n",
    "    \n",
    "    \n",
    "- All questions in this quiz/exam will be automatically graded using [NBGRADER](https://nbgrader.readthedocs.io/).\n",
    "    \n",
    "- <div style=\"background-color: #800; color: white; padding: 5px; padding-left: 10px; padding-right: 10px; margin-top: 10px; margin-bottom: 10px; border-radius: 7px;\">\n",
    "        \n",
    "    Your answers will be checked for potential cheating. If there is clear evidence of cheating, then you will automatically fail this quiz/exam. If you use online websites or other means to receive any sort of \"help,\" you are committing **CHEATING**, and it will **not** be tolerated! Even if you cheat on a single question or one part of a question, you will still receive a **zero** for the entire exam, and further disciplinary action may also be taken. So, **please do not cheat!**\n",
    "        \n",
    "    </div>\n",
    "    \n",
    "    \n",
    "- The maximum amount of time that you should be spending on each question or section is provided to you in a box colored <span style=\"margin-left: 0px; background-color: #dd6a00; color: white; padding: 5px; padding-left: 10px; padding-right: 10px; border-radius: 5px;\">orange</span> like this.\n",
    "    \n",
    "    \n",
    "- **<span style=\"color: #080; font-size: 12pt; line-height: 1.5;\">USE *Jupyter Notebook* to solve this exam!</span> <span style=\"color: #b00; font-size: 12pt; line-height: 1.5;\">DO NOT USE *Jupyter Lab*!</span>**\n",
    "\n",
    "    \n",
    "- __<span style=\"color: #b00; font-size: 12pt; line-height: 1.5;\">DO NOT COPY AND PASTE CELLS</span>__\n",
    "\n",
    "    \n",
    "- __<span style=\"color: #b00; font-size: 12pt; line-height: 1.5;\">DO NOT REMOVE CELLS</span>__\n",
    "    \n",
    "    \n",
    "- __<span style=\"color: #b00; font-size: 12pt; line-height: 1.5;\">DO NOT ADD NEW CELLS</span>__    \n",
    "\n",
    "    \n",
    "- __<span style=\"color: #b00; font-size: 12pt; line-height: 1.5;\">DO NOT CHANGE THE TYPE (Markdown/Code/Raw) OF CELLS</span>__    \n",
    "\n",
    "    \n",
    "- __<span style=\"color: #080; font-size: 12pt; line-height: 1.5;\">ONLY WRITE CODE IN DESIGNATED CELLS</span>__    \n",
    "\n",
    "    \n",
    "- This is an exam just like any in-class exam you are used to taking until now. You will only be taking this exam at your convience in your home.\n",
    "\n",
    "    \n",
    "- Fill in the code cells indicated for you clearly. That is, do __not__ write your code anywhere else. If you do so, you may lose the points for that question.\n",
    "    - You will see\n",
    "    \n",
    "            # YOUR CODE HERE\n",
    "            pass\n",
    "           \n",
    "      in the functions where you will have to fill in your Python code. Replace these with your own code so that your implementation works as specified.    \n",
    "    \n",
    "    \n",
    "- Do not change function names (and argument names/lists). Otherwise, this may cause you to lose points on a question unnecessarily.\n",
    "\n",
    "- If you cannot finish all the questions on this exam, submit as much as you managed to complete so that you can get some of the points available for that exam.\n",
    "    \n",
    "    \n",
    "- Submit the completed version of this notebook at the web address indicated below.\n",
    "- Do not send a file with a different file type. Only Jupyter notebooks will be accepted.\n",
    "    \n",
    "    \n",
    "- Do not send your answer notebook file as email or via any other messaging media&mdash;such requests will be ignored.\n",
    "    \n",
    "    \n",
    "- Do not ask any questions about the exam unless you believe there is something wrong with a question. Remember this is an exam.\n",
    "    \n",
    "    \n",
    "- If you fail to upload your file before the deadline for any reason whatsoever, this is entirely your responsibility. In such cases, your grade for the exam in question will be zero.\n",
    "    \n",
    "    \n",
    "- __All _Rules of Academic Conduct_ apply__. Any sort of cheating will result in an __FF__ grade for the course. Your case will also be submitted to the Faculty Disciplinary Committee for further evaluation and disciplinary action. You can refer to books and web pages for help, but you are __not__ allowed to consult anyone online. Any sort of collaboraton with anyone anywhere is considered cheating.\n",
    "    - See https://neu.edu.tr/administration/regulations/general-student-discipline-regulations/?lang=en\n",
    "    \n",
    "- Enter your official name and your NEU student ID in the code cell below. For example,\n",
    "\n",
    "        student_name = \"Huseyin Sevay\"\n",
    "        student_id   = \"20201083\"\n",
    "        \n",
    "    - Make sure you enter your official name as a `str` as shown above\n",
    "    - Make sure that your student ID has been entered correctly as `str`.\n",
    "\n",
    "\n",
    "- ### SUBMISSION\n",
    "    \n",
    "    - Rename your file so that that its name contains your official name and student ID. For example,\n",
    "    \n",
    "            huseyin_sevay_20201083_ecc201-fall-2020-2021-quiz01.ipynb\n",
    "\n",
    "    - Upload your Jupyter notebook with your answers at the appropriate UZEM link.\n",
    "        \n",
    "    - Check the exact deadline date and time before you start this test.\n",
    "\n",
    "    - No late submissions will be accepted under any circumstances!\n",
    "  \n",
    "    \n",
    "- <span style=\"background-color: #800; color: white; padding: 5px; padding-left: 10px; padding-right: 10px; margin-top: 10px; margin-bottom: 10px; border-radius: 7px;\"> WARNING</span> __<span style=\"color: #800; line-height: 1.5;\">Failure to follow any of these instructions may cost you points on this exam!</span>__\n",
    "\n",
    "### Best of luck!\n",
    "</span>"
   ]
  },
  {
   "cell_type": "markdown",
   "metadata": {
    "deletable": false,
    "editable": false,
    "nbgrader": {
     "cell_type": "markdown",
     "checksum": "6ca198402824a84e5a90a50857157240",
     "grade": false,
     "grade_id": "cell-5ywr4j7r7677n3o1",
     "locked": true,
     "schema_version": 3,
     "solution": false,
     "task": false
    }
   },
   "source": [
    "### Your name and student ID <span style=\"margin-left: 10px; background-color: #116; color: white; padding: 5px; padding-left: 10px; padding-right: 10px; border-radius: 5px; font-size: 12pt;\">Enter in the code cell below</span>"
   ]
  },
  {
   "cell_type": "code",
   "execution_count": null,
   "metadata": {},
   "outputs": [],
   "source": [
    "student_name = \"Özlem Ezgi SARI\"\n",
    "student_id   = \"20171403\""
   ]
  },
  {
   "cell_type": "markdown",
   "metadata": {},
   "source": [
    "---"
   ]
  },
  {
   "cell_type": "markdown",
   "metadata": {
    "deletable": false,
    "editable": false,
    "nbgrader": {
     "cell_type": "markdown",
     "checksum": "20449935ae8fa9647d5ea2cc05efa79b",
     "grade": false,
     "grade_id": "cell-3y2ki3f6qu8n4dd9",
     "locked": true,
     "schema_version": 3,
     "solution": false,
     "task": false
    }
   },
   "source": [
    "### <span id=\"Q1\" style=\"background-color: #555; color: white; padding: 5px; padding-left: 10px; padding-right: 10px; border-radius: 5px;\">Question 1</span><span style=\"margin-left: 10px; background-color: #383; color: white; padding: 5px; padding-left: 10px; padding-right: 10px; border-radius: 5px;\">30 points</span><span style=\"margin-left: 10px; background-color: #dd6a00; color: white; padding: 5px; padding-left: 10px; padding-right: 10px; border-radius: 5px;\">30 mins</span><a href=\"#QTOP\" style=\"background-color: #aaa; color: white; padding: 5px; padding-bottom: 5px; border-radius: 2px; text-align: center; border-radius: 3px; margin-left: 10px; text-decoration: none;\">⇡</a> \n",
    "\n",
    "<div style=\"margin-top: 1px;\">&nbsp;</div>\n",
    "\n",
    "\n",
    "Implement a Python *iterator class* named `RandomSequenceIterator` that returns the elements of a given sequence in *random* index order. The iterator must take, as first parameter the input sequence, and, as second parameter, a randomizer function, which randomizes the order of the input sequence indices. \n",
    "\n",
    "Inspect the `__init__()` method provided for you already.\n",
    "\n",
    "In addition, see the examples in the test cases further below.\n",
    "\n",
    "## <span style=\"margin-left: 10px; background-color: #811; color: white; padding: 5px; margin: 10px; border-radius: 5px; font-size: 12pt;\">YOU MUST WRITE ALL YOUR CODE IN THE FOLLOWING CODE CELL</span>##"
   ]
  },
  {
   "cell_type": "code",
   "execution_count": null,
   "metadata": {
    "deletable": false,
    "nbgrader": {
     "cell_type": "code",
     "checksum": "b476de63d88acc9070f359c0be83e96f",
     "grade": false,
     "grade_id": "cell-a8i39e0k88740a8g",
     "locked": false,
     "schema_version": 3,
     "solution": true,
     "task": false
    }
   },
   "outputs": [],
   "source": [
    "class RandomSequenceIterator:\n",
    "    def __init__( self, seq, randomizer ):\n",
    "        self.seq = seq\n",
    "        self.rindices = randomizer( range( len( seq ) ))\n",
    "        #print( f\"--- self.rindices: {self.rindices}\" )\n",
    "        self.index = 0\n",
    "        self.newSeq = list()\n",
    "\n",
    "\n",
    "    def __iter__(self):\n",
    "        return self\n",
    "\n",
    "    def __next__(self):\n",
    "        for i in self.rindices:\n",
    "            seq = self.seq[i]\n",
    "            self.newSeq.append(seq)\n",
    "            \n",
    "        if self.index < len(self.newSeq):\n",
    "            newSeq = self.newSeq[self.index]\n",
    "            self.index += 1\n",
    "            return self.newSeq\n",
    "        else:\n",
    "            raise StopIteration\n",
    "#raise NotImplementedError()"
   ]
  },
  {
   "cell_type": "code",
   "execution_count": null,
   "metadata": {},
   "outputs": [],
   "source": [
    "# TEST 1\n",
    "#\n",
    "import random\n",
    "\n",
    "random.seed( 100 )\n",
    "\n",
    "L = [\"A\", \"B\", \"C\", \"D\", \"E\"]\n",
    "randomizer = lambda s: random.sample( s, len( s ) )\n",
    "R = RandomSequenceIterator( L, randomizer )\n",
    "myiter = iter(R)\n",
    "print(next(myiter))\n",
    "correct_answer = ['B', 'D', 'E', 'A', 'C']\n",
    "\n",
    "assert list( R ) == correct_answer"
   ]
  },
  {
   "cell_type": "markdown",
   "metadata": {
    "deletable": false,
    "editable": false,
    "nbgrader": {
     "cell_type": "markdown",
     "checksum": "dd8d3fc6d6f3c8322348786b0e793b35",
     "grade": false,
     "grade_id": "cell-m6f717b61je73p6m",
     "locked": true,
     "schema_version": 3,
     "solution": false,
     "task": false
    }
   },
   "source": [
    "**TEST CASES:**"
   ]
  },
  {
   "cell_type": "code",
   "execution_count": null,
   "metadata": {
    "deletable": false,
    "editable": false,
    "nbgrader": {
     "cell_type": "code",
     "checksum": "23f37637830cf1c83234af1e29ca2bdb",
     "grade": true,
     "grade_id": "cell-q5559su24fybp676",
     "locked": true,
     "points": 10,
     "schema_version": 3,
     "solution": false,
     "task": false
    }
   },
   "outputs": [],
   "source": [
    "# TEST 1\n",
    "#\n",
    "import random\n",
    "\n",
    "random.seed( 100 )\n",
    "\n",
    "L = [\"A\", \"B\", \"C\", \"D\", \"E\"]\n",
    "randomizer = lambda s: random.sample( s, len( s ) )\n",
    "R = RandomSequenceIterator( L, randomizer )\n",
    "correct_answer = ['B', 'D', 'E', 'A', 'C']\n",
    "\n",
    "assert list( R ) == correct_answer\n"
   ]
  },
  {
   "cell_type": "code",
   "execution_count": null,
   "metadata": {
    "deletable": false,
    "editable": false,
    "nbgrader": {
     "cell_type": "code",
     "checksum": "3d31a276bb2e4b32238c58371493a2c7",
     "grade": true,
     "grade_id": "cell-11j2h35aqpfnd7gn",
     "locked": true,
     "points": 10,
     "schema_version": 3,
     "solution": false,
     "task": false
    }
   },
   "outputs": [],
   "source": [
    "# TEST 2\n",
    "#\n",
    "import random\n",
    "\n",
    "random.seed( 200 )\n",
    "\n",
    "S = \"Oregano\"\n",
    "randomizer = lambda s: random.sample( s, len( s ) )\n",
    "R = RandomSequenceIterator( S, randomizer )\n",
    "correct_answer = ['O', 'r', 'o', 'n', 'e', 'g', 'a']\n",
    "\n",
    "assert list( R ) == correct_answer\n"
   ]
  },
  {
   "cell_type": "code",
   "execution_count": null,
   "metadata": {
    "deletable": false,
    "editable": false,
    "nbgrader": {
     "cell_type": "code",
     "checksum": "bb40497f296fa1ee4799614623fd8680",
     "grade": true,
     "grade_id": "cell-9agu0il13xd14f8d",
     "locked": true,
     "points": 10,
     "schema_version": 3,
     "solution": false,
     "task": false
    }
   },
   "outputs": [],
   "source": [
    "# TEST 3\n",
    "#\n",
    "import random\n",
    "\n",
    "random.seed( 500 )\n",
    "\n",
    "S = \"Peace and Justice\"\n",
    "randomizer = lambda s: random.sample( s, len( s ) )\n",
    "R = RandomSequenceIterator( S, randomizer )\n",
    "\n",
    "first = next( R )\n",
    "\n",
    "#print( first )\n",
    "\n",
    "assert first == 'i'\n",
    "\n",
    "rest = [v for v in R]\n",
    "\n",
    "#print( rest )\n",
    "\n",
    "correct_answer = ['e', 'e', 'J', 's', 'u', 'a', 'c', 'e', ' ', 't', 'c', 'P', 'n', ' ', 'd', 'a']\n",
    "\n",
    "assert rest == correct_answer\n"
   ]
  },
  {
   "cell_type": "markdown",
   "metadata": {
    "deletable": false,
    "editable": false,
    "nbgrader": {
     "cell_type": "markdown",
     "checksum": "5dcdc98a7ee549dc6ec6bd341989c9f5",
     "grade": false,
     "grade_id": "cell-6k2w3pz07y4p19py",
     "locked": true,
     "schema_version": 3,
     "solution": false,
     "task": false
    }
   },
   "source": [
    "---\n",
    "\n",
    "<span style=\"display: inline-block; width: 100%; background-color: #dd6a00; color: white; padding: 5px; padding-left: 10px; padding-right: 10px; border-radius: 5px; text-align: center; font-weight: bold;\">END OF TEST</span>"
   ]
  }
 ],
 "metadata": {
  "kernelspec": {
   "display_name": "Python 3",
   "language": "python",
   "name": "python3"
  },
  "language_info": {
   "codemirror_mode": {
    "name": "ipython",
    "version": 3
   },
   "file_extension": ".py",
   "mimetype": "text/x-python",
   "name": "python",
   "nbconvert_exporter": "python",
   "pygments_lexer": "ipython3",
   "version": "3.8.5"
  }
 },
 "nbformat": 4,
 "nbformat_minor": 4
}
